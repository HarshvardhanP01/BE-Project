{
 "cells": [
  {
   "cell_type": "code",
   "execution_count": 1,
   "id": "56dc6104-2e9d-4a76-a597-a3af7ff6884b",
   "metadata": {},
   "outputs": [],
   "source": [
    "import random"
   ]
  },
  {
   "cell_type": "code",
   "execution_count": 2,
   "id": "1687576a-085a-4572-a6d9-246c6146f40f",
   "metadata": {},
   "outputs": [],
   "source": [
    "questions = [\n",
    "\"How's the mental chatter been treating you lately? Any shifts in the soundtrack?\",\n",
    "\n",
    "\"Getting cozy under the covers lately? Any insights into your sleep adventures?\",\n",
    "\n",
    "\"Any unexpected cravings knocking on your door recently?\",\n",
    "\n",
    "\"Feeling the spark for your favorite pastimes or is it a bit dimmer these days?\",\n",
    "\n",
    "\"Are there shadows in your thoughts, or is the sunshine winning?\",\n",
    "\n",
    "\"Feeling like a fully charged battery or running on low power?\",\n",
    "\n",
    "\"Any surprises on the scale lately? Weighty matters or just minor fluctuations?\",\n",
    "\n",
    "\"Confidence levels: soaring high or taking a bit of a breather?\",\n",
    "\n",
    "\"Any guilt trips taking you on an unexpected journey?\",\n",
    "\n",
    "\"Temperature check: cool breeze or a bit of a heatwave?\",\n",
    "\n",
    "\"Any unexpected guests in the attic of your mind?\",\n",
    "\n",
    "\"Are decisions flowing smoothly or encountering a few detours?\",\n",
    "\n",
    "\"Social butterfly or cozying up with a good book?\",\n",
    "\n",
    "\"Motivation meter: revved up or idling?\",\n",
    "\n",
    "\"Gym enthusiast or Netflix connoisseur?\",\n",
    "\n",
    "\"Stress magnet or stress repellent?\",\n",
    "\n",
    "\"Any unexpected twinges or aches throwing you off your game?\",\n",
    "\n",
    "\"Joyometer: hitting the high notes or a bit off-key?\",\n",
    "\n",
    "\"Focus lens: crystal clear or slightly foggy?\",\n",
    "\n",
    "\"Restless nights or sleeping like a baby?\",\n",
    "\n",
    "\"Culinary adventures or sticking to the classics?\",\n",
    "\n",
    "\"Inner critic: whispering encouragement or casting shadows?\",\n",
    "\n",
    "\"Social scene: buzzing with activity or enjoying some quiet time?\",\n",
    "\n",
    "\"Feeling like a rockstar or questioning your shine?\",\n",
    "\n",
    "\"Dreamy nights or wrestling with the sandman?\",\n",
    "\n",
    "\"Navigating responsibilities like a pro or feeling a bit adrift?\",\n",
    "\n",
    "\"Dusting off hobbies or catching up on Netflix?\",\n",
    "\n",
    "\"Feeling like you're in the fast lane or stuck in traffic?\",\n",
    "\n",
    "\"Weathering the storm or basking in sunshine?\",\n",
    "\n",
    "\"Decision-making: snap judgments or pondering each move?\",\n",
    "\n",
    "\"Embracing intimacy or needing some space?\",\n",
    "\n",
    "\"Initiating tasks: diving in headfirst or dipping your toes?\",\n",
    "\n",
    "\"Confidence levels: sky-high or needing a boost?\",\n",
    "\n",
    "\"Emotional landscape: a kaleidoscope of colors or shades of gray?\",\n",
    "\n",
    "\"Patience: flowing freely or running a bit thin?\",\n",
    "\n",
    "\"Joy levels: fireworks or sparklers?\",\n",
    "\n",
    "\"Grooming game: on fleek or could use a touch-up?\",\n",
    "\n",
    "\"Attention span: marathon runner or sprinter?\",\n",
    "\n",
    "\"Self-worth: solid as a rock or a bit wobbly?\",\n",
    "\n",
    "\"Handling criticism: like water off a duck's back or feeling the sting?\",\n",
    "\n",
    "\"Social scene: life of the party or preferring one-on-one time?\",\n",
    "\n",
    "\"Weight fluctuations: smooth sailing or a bit choppy?\",\n",
    "\n",
    "\"Anxiety levels: calm waters or a bit choppy?\",\n",
    "\n",
    "\"Passion for work/study: burning brightly or in need of a spark?\",\n",
    "\n",
    "\"Decision compass: pointing true north or spinning?\",\n",
    "\n",
    "\"Task initiation: ready, set, go or hesitating at the starting line?\",\n",
    "\n",
    "\"Finding joy in the everyday or searching for hidden treasures?\",\n",
    "\n",
    "\"Self-motivated or needing a push?\",\n",
    "\n",
    "\"Conversationalist extraordinaire or lost in thought?\",\n",
    "\n",
    "\"Daydreamer or firmly grounded?\",\n",
    "\n",
    "\"Alone time: refreshing or feeling a bit too quiet?\",\n",
    "\n",
    "\"Content with productivity or craving more?\",\n",
    "\n",
    "\"Seeking joy in the small moments or feeling stuck in a rut?\",\n",
    "\n",
    "\"Any lingering frustrations bubbling under the surface?\",\n",
    "\n",
    "\"Navigating setbacks: smooth sailing or hitting rough waters?\",\n",
    "\n",
    "\"Social engagement: party planner or more of a homebody?\",\n",
    "\n",
    "\"Feeling the weight of responsibility or embracing it?\",\n",
    "\n",
    "\"Adapting to change: surfing the waves or feeling a bit seasick?\",\n",
    "\n",
    "\"Stress relief rituals: a daily necessity or often forgotten?\"\n",
    "]\n",
    "prompts = [\n",
    "\"How's your sleep been lately? Rating it on a scale of 'dreamy' to 'tossing and turning'?\",\n",
    "\n",
    "\"What's the typical bedtime routine for a guy like you?\",\n",
    "\n",
    "\"Feeling more like a daytime dynamo or a nighttime ninja when it comes to energy?\",\n",
    "\n",
    "\"What's on the menu for keeping you fueled and ready for action?\",\n",
    "\n",
    "\"Any Jedi mind tricks for keeping stress at bay?\",\n",
    "\n",
    "\"Got any hygiene hacks that keep you feeling fresh?\",\n",
    "\n",
    "\"What keeps your mental gears grinding throughout the day?\",\n",
    "\n",
    "\"How do you make sure your meals are hitting all the right spots?\",\n",
    "\n",
    "\"Ever notice how chowing down affects your mood and mojo?\",\n",
    "\n",
    "\"What's your secret sauce for keeping that physical engine revving?\",\n",
    "\n",
    "\"How's your mood been lately? Are you riding high on positivity or feeling a bit cloudy?\",\n",
    "\n",
    "\"Describe your go-to relaxation ritual. Is it more 'zen master' or 'unwinding chaos'?\",\n",
    "\n",
    "\"When it comes to tackling challenges, are you more of a 'calm and collected' type or a 'fly by the seat of your pants'?\",\n",
    "\n",
    "\"What's your trick for staying motivated? Are you more about setting big goals or taking it one step at a time?\",\n",
    "\n",
    "\"Any tips for maintaining focus during a busy day? Are you more about deep concentration or juggling multiple tasks?\",\n",
    "\n",
    "\"Tell me about your downtime. Are you all about Netflix binges or outdoor adventures?\",\n",
    "\n",
    "\"How do you recharge your batteries after a long day? Are you more into solo relaxation or socializing?\",\n",
    "\n",
    "\"When it comes to managing responsibilities, are you a meticulous planner or a spontaneous problem solver?\",\n",
    "\n",
    "\"What's your approach to self-care? Do you prefer indulging in pampering sessions or keeping it simple?\",\n",
    "\n",
    "\"How do you handle setbacks? Are you more about bouncing back quickly or taking time to regroup?\",\n",
    "]\n",
    "\n",
    "manual_questions = [\n",
    "    \"What is the typical sleep duration?\",\n",
    "    \"How does a normal man feel during the day?\",\n",
    "    \"What are the eating habits of a normal man?\",\n",
    "    \"How does a normal man manage stress effectively?\"\n",
    "]"
   ]
  },
  {
   "cell_type": "code",
   "execution_count": 3,
   "id": "4bf2a02b-3545-4792-8999-2eb07a280627",
   "metadata": {},
   "outputs": [],
   "source": [
    "options = [\n",
    "    ['a. Chill as usual', 'b. Kinda scatterbrained', 'c. Lost in thought a lot', 'd. Totally spaced out'],\n",
    "    ['a. Sleeping like a baby', 'b. Bit all over the place', 'c. Insomnia\\'s a new friend', 'd. Bed\\'s my new BFF or avoiding it at all costs'],\n",
    "    ['a. Eating like a champ', 'b. Snacking a bit more or less', 'c. Rollercoaster of hunger', 'd. Food\\'s like a stranger to me'],\n",
    "    ['a. Still my jam', 'b. Meh, kinda into it', 'c. Rarely feeling it', 'd. What\\'s excitement?'],\n",
    "    ['a. Nope, all good', 'b. Sometimes feeling it', 'c. Frequently hopeless', 'd. Living in a hope desert'],\n",
    "    ['a. Energizer bunny', 'b. Up and down', 'c. Mostly on low', 'd. Out of battery'],\n",
    "    ['a. Rocking the usual', 'b. A bit up or down', 'c. Major shift on the scale', 'd. Rollercoaster ride'],\n",
    "    ['a. Confidence for days', 'b. Average vibes', 'c. Kinda shaky', 'd. Confidence who?'],\n",
    "    ['a. Guilt-free zone', 'b. Occasionally guilty', 'c. Frequently guilty', 'd. Guilt\\'s my shadow'],\n",
    "    ['a. Zen master', 'b. Slightly irritable', 'c. Easily annoyed', 'd. Human volcano'],\n",
    "    ['a. Sunshine and rainbows', 'b. Rarely', 'c. Sometimes', 'd. Dark clouds only'],\n",
    "    ['a. Decision-making guru', 'b. Decent, I guess', 'c. Hard to decide', 'd. Decision-making is a myth'],\n",
    "    ['a. Socializing pro', 'b. Here and there', 'c. Avoiding crowds', 'd. Socializing? What\\'s that?'],\n",
    "    ['a. Killing it', 'b. Getting stuff done', 'c. Struggling', 'd. Tasks? Not today'],\n",
    "    ['a. Fitness fanatic', 'b. Some exercise', 'c. Minimal effort', 'd. Exercise? Never heard of it'],\n",
    "    ['a. Handling stress like a boss', 'b. Managing okay', 'c. Stress levels rising', 'd. Stress is my roommate'],\n",
    "    ['a. Feeling great', 'b. A bit uncomfortable', 'c. Quite painful', 'd. Pain\\'s my new friend'],\n",
    "    ['a. Happy vibes only', 'b. Some joy here and there', 'c. Rarely joyful', 'd. Joy? What\\'s that?'],\n",
    "    ['a. Super focused', 'b. Okay-ish', 'c. Hard to concentrate', 'd. Concentration who?'],\n",
    "    ['a. Chillaxed', 'b. A bit restless', 'c. Often restless', 'd. Restless soul'],\n",
    "    ['a. Eating like a champ', 'b. A bit off', 'c. Not feeling hungry or always hungry', 'd. Food\\'s a stranger'],\n",
    "    ['a. Positive vibes only', 'b. Some negativity', 'c. Frequently negative', 'd. Negativity on repeat'],\n",
    "    ['a. Socializing pro', 'b. Here and there', 'c. Social interactions are draining', 'd. Socializing? Nah.'],\n",
    "    ['a. Confident and worthy', 'b. Doubting a bit', 'c. Frequently doubting', 'd. Worthless vibes'],\n",
    "    ['a. Sleeping like a baby', 'b. A bit restless', 'c. Sleep\\'s a challenge', 'd. Dreamless nights'],\n",
    "    ['a. Responsible as always', 'b. Managing okay', 'c. Struggling', 'd. Responsibility who?'],\n",
    "    ['a. Hobbies thriving', 'b. Some interest left', 'c. Lost interest', 'd. Hobbies? What are those?'],\n",
    "    ['a. Full of energy', 'b. Sometimes sluggish', 'c. Frequently sluggish', 'd. Energy levels depleted'],\n",
    "    ['a. Easy breezy', 'b. Handling it', 'c. Feeling overwhelmed', 'd. Life\\'s a storm'],\n",
    "    ['a. Decisions are a breeze', 'b. Decent decisions', 'c. Hard to decide', 'd. Decisions? No thanks.'],\n",
    "    ['a. Intimacy champion', 'b. Okay-ish', 'c. Feeling disconnected', 'd. Intimacy? What\\'s that?'],\n",
    "    ['a. Task master', 'b. Some tasks get done', 'c. Struggling to complete tasks', 'd. Tasks? Never started.'],\n",
    "    ['a. Confidence for days', 'b. Average vibes', 'c. Kinda shaky', 'd. Confidence who?'],\n",
    "    ['a. Emotionally expressive', 'b. Sometimes numb', 'c. Frequently numb', 'd. Emotions on mute'],\n",
    "    ['a. Tolerant af', 'b. Moderate tolerance', 'c. Low tolerance', 'd. Frustration overload'],\n",
    "    ['a. Joyful every day', 'b. Some joy here and there', 'c. Rarely joyful', 'd. Joy? What\\'s that?'],\n",
    "    ['a. Fresh and clean', 'b. Occasionally neglecting', 'c. Frequently neglecting', 'd. Hygiene who?'],\n",
    "    ['a. Laser-focused', 'b. Okay-ish attention', 'c. Hard to focus', 'd. Attention span of a goldfish'],\n",
    "    ['a. Feeling great', 'b. Occasionally doubtful', 'c. Frequently doubtful', 'd. Worthless vibes'],\n",
    "    ['a. Thick-skinned', 'b. Handling it okay', 'c. Struggling with criticism', 'd. Criticism hurts'],\n",
    "    ['a. Socializing pro', 'b. Here and there', 'c. Low motivation', 'd. Socializing? Nah.'],\n",
    "    ['a. No changes', 'b. A bit up or down', 'c. Significant weight changes', 'd. Weight\\'s a mystery'],\n",
    "    ['a. Anxiety-free', 'b. A bit anxious', 'c. Frequently anxious', 'd. Anxiety overload'],\n",
    "    ['a. Loving it', 'b. Some interest left', 'c. Lost interest', 'd. Work or studies? Nah.'],\n",
    "    ['a. Decision-making guru', 'b. Decent decisions', 'c. Hard to decide', 'd. Decisions? Not today.'],\n",
    "    ['a. Task master', 'b. Some tasks get done', 'c. Struggling to start tasks', 'd. Tasks? Never started.'],\n",
    "    ['a. Enjoying it all', 'b. Some joy here and there', 'c. Rarely joyful', 'd. Joy? What\\'s that?'],\n",
    "    ['a. Motivated af', 'b. Moderate motivation', 'c. Low motivation', 'd. No motivation at all'],\n",
    "    ['a. Engaged in every conversation', 'b. Okay-ish focus', 'c. Hard to focus on conversations', 'd. Conversations who?'],\n",
    "    ['a. Lost in daydreams', 'b. Balanced between daydreaming and focus', 'c. Mostly focused on the present', 'd. Always fully focused'],\n",
    "    ['a. Frequently', 'b. Sometimes', 'c. Rarely', 'd. Never'],\n",
    "    ['a. Not satisfied at all', 'b. Somewhat satisfied', 'c. Fairly satisfied', 'd. Completely satisfied'],\n",
    "    ['a. Rarely', 'b. Sometimes', 'c. Often', 'd. Daily'],\n",
    "    ['a. Yes, frequently', 'b. Occasionally', 'c. Rarely', 'd. Never'],\n",
    "    ['a. Easily discouraged', 'b. Somewhat resilient', 'c. Fairly resilient', 'd. Extremely resilient'],\n",
    "    ['a. Not satisfied at all', 'b. Somewhat satisfied', 'c. Fairly satisfied', 'd. Completely satisfied'],\n",
    "    ['a. Frequently', 'b. Sometimes', 'c. Rarely', 'd. Never'],\n",
    "    ['a. Not confident at all', 'b. Somewhat confident', 'c. Fairly confident', 'd. Extremely confident'],\n",
    "    ['a. Rarely', 'b. Sometimes', 'c. Often', 'd. Daily'],\n",
    "]\n",
    "option_list= [\n",
    "    [\"Refreshed and rejuvenated\",\n",
    "    \"Decent with interruptions\",\n",
    "    \"Struggled and tired\",\n",
    "    \"Tossed and turned all night\"],\n",
    "\n",
    "    [\"Light reading or music\",\n",
    "    \"Warm bath or shower\",\n",
    "    \"Meditation or breathing exercises\",\n",
    "    \"Avoid screens before bed\"],\n",
    "\n",
    "    [\"Full of energy\",\n",
    "    \"Balanced throughout the day\",\n",
    "    \"Alert in the evening\",\n",
    "    \"Fatigue and low energy\"],\n",
    "\n",
    "    [\"Whole foods and lean proteins\",\n",
    "    \"Complex carbohydrates\",\n",
    "    \"Healthy fats\",\n",
    "    \"Quick snacks for energy\"],\n",
    "\n",
    "    [\"Mindfulness and breathing exercises\",\n",
    "    \"Regular exercise\",\n",
    "    \"Hobbies and relaxation\",\n",
    "    \"Seeking support from others\"],\n",
    "\n",
    "    [\"Facial wipes or mists\",\n",
    "    \"Dry shampoo\",\n",
    "    \"Small toothbrush and toothpaste\",\n",
    "    \"Natural deodorants\"],\n",
    "\n",
    "    [\"Problem-solving tasks or puzzles\",\n",
    "    \"Stimulating conversations\",\n",
    "    \"Podcasts or audiobooks\",\n",
    "    \"Short breaks for stretching or walking\"],\n",
    "\n",
    "    [\"Planning meals and balanced nutrition\",\n",
    "    \"Experimenting with new recipes\",\n",
    "    \"Listening to hunger cues\",\n",
    "    \"Variety and color on the plate\"],\n",
    "\n",
    "    [\"Nutritious meals boost mood and energy\",\n",
    "    \"Comfort foods for temporary mood boost\",\n",
    "    \"Skipping meals leads to irritability\",\n",
    "    \"Certain foods cause mood crashes\"],\n",
    "\n",
    "    [\"Regular exercise including cardio and strength training\",\n",
    "    \"Staying hydrated with water and electrolytes\",\n",
    "    \"Listening to body's signals for rest\",\n",
    "    \"Stress-reducing activities like yoga or stretching\"],\n",
    "    [\"Upbeat and positive\",\n",
    "    \"Mixed emotions, mostly content\",\n",
    "    \"Struggling with low moods\",\n",
    "    \"Feeling overwhelmed\"],\n",
    "\n",
    "    [\"Mindfulness practices\",\n",
    "    \"Nature walks\",\n",
    "    \"Reading or watching\",\n",
    "    \"Spending time with loved ones\"],\n",
    "\n",
    "    [\"Calm and composed\",\n",
    "    \"Embracing challenges\",\n",
    "    \"Finding creative solutions\",\n",
    "    \"Overwhelmed by challenges\"],\n",
    "\n",
    "    [\"Setting ambitious goals\",\n",
    "    \"Taking small steps\",\n",
    "    \"Drawing inspiration from others\",\n",
    "    \"Visualizing rewards\"],\n",
    "\n",
    "    [\"Diving deep into tasks\",\n",
    "    \"Efficient multitasking\",\n",
    "    \"Structured work breaks\",\n",
    "    \"Using techniques like Pomodoro\"],\n",
    "\n",
    "    [\"Outdoor adventures\",\n",
    "    \"Binge-watching\",\n",
    "    \"Quality time with loved ones\",\n",
    "    \"Exploring new hobbies\"],\n",
    "\n",
    "    [\"Solitary activities\",\n",
    "    \"Socializing with friends\",\n",
    "    \"Self-care rituals\",\n",
    "    \"Mindfulness exercises\"],\n",
    "\n",
    "    [\"Meticulous planning\",\n",
    "    \"Adapting on the fly\",\n",
    "    \"Delegating tasks\",\n",
    "    \"Flexible approach\"],\n",
    "\n",
    "    [\"Luxurious pampering\",\n",
    "    \"Simple daily routines\",\n",
    "    \"Emotional nurturing\",\n",
    "    \"Finding joy in simplicity\"],\n",
    "\n",
    "    [\"Quick bounce back\",\n",
    "    \"Reflective processing\",\n",
    "    \"Seeking support\",\n",
    "    \"Maintaining resilience\"]\n",
    "]\n"
   ]
  },
  {
   "cell_type": "code",
   "execution_count": 4,
   "id": "72ad6158-c734-4b7e-bab9-aba78ccab7a8",
   "metadata": {},
   "outputs": [],
   "source": [
    "scores = [\n",
    "    [1, 0.75, 0.50, 0.25],  \n",
    "    [1, 0.75, 0.50, 0.25],  \n",
    "    [1, 0.75, 0.50, 0.25],  \n",
    "    [1, 0.75, 0.50, 0.25],  \n",
    "    [1, 0.75, 0.50, 0.25],  \n",
    "    [1, 0.75, 0.50, 0.25],  \n",
    "    [1, 0.75, 0.50, 0.25],  \n",
    "    [1, 0.75, 0.50, 0.25],   \n",
    "    [1, 0.75, 0.50, 0.25],   \n",
    "    [1, 0.75, 0.50, 0.25],   \n",
    "    [1, 0.75, 0.50, 0.25],   \n",
    "    [1, 0.75, 0.50, 0.25],   \n",
    "    [1, 0.75, 0.50, 0.25],   \n",
    "    [1, 0.75, 0.50, 0.25],   \n",
    "    [1, 0.75, 0.50, 0.25],   \n",
    "    [1, 0.75, 0.50, 0.25],   \n",
    "    [1, 0.75, 0.50, 0.25],   \n",
    "    [1, 0.75, 0.50, 0.25],   \n",
    "    [1, 0.75, 0.50, 0.25],   \n",
    "    [1, 0.75, 0.50, 0.25],   \n",
    "    [1, 0.75, 0.50, 0.25],   \n",
    "    [1, 0.75, 0.50, 0.25],   \n",
    "    [1, 0.75, 0.50, 0.25],   \n",
    "    [1, 0.75, 0.50, 0.25],   \n",
    "    [1, 0.75, 0.50, 0.25],   \n",
    "    [1, 0.75, 0.50, 0.25],   \n",
    "    [1, 0.75, 0.50, 0.25],   \n",
    "    [1, 0.75, 0.50, 0.25],   \n",
    "    [1, 0.75, 0.50, 0.25],   \n",
    "    [1, 0.75, 0.50, 0.25],   \n",
    "    [1, 0.75, 0.50, 0.25],   \n",
    "    [1, 0.75, 0.50, 0.25],   \n",
    "    [1, 0.75, 0.50, 0.25],   \n",
    "    [1, 0.75, 0.50, 0.25],   \n",
    "    [1, 0.75, 0.50, 0.25],   \n",
    "    [1, 0.75, 0.50, 0.25],   \n",
    "    [1, 0.75, 0.50, 0.25],   \n",
    "    [1, 0.75, 0.50, 0.25],   \n",
    "    [1, 0.75, 0.50, 0.25],   \n",
    "    [0.25, 0.50, 0.75, 1],   \n",
    "    [0.25, 0.50, 0.75, 1],   \n",
    "    [0.25, 0.50, 0.75, 1],   \n",
    "    [0.25, 0.50, 0.75, 1],   \n",
    "    [0.25, 0.50, 0.75, 1],   \n",
    "    [0.25, 0.50, 0.75, 1],   \n",
    "    [0.25, 0.50, 0.75, 1],   \n",
    "    [0.25, 0.50, 0.75, 1],   \n",
    "    [0.25, 0.50, 0.75, 1],   \n",
    "    [0.25, 0.50, 0.75, 1],   \n",
    "    [0.25, 0.50, 0.75, 1],   \n",
    "]"
   ]
  },
  {
   "cell_type": "code",
   "execution_count": 5,
   "id": "463307c0-f35c-439c-b69e-09c837caee55",
   "metadata": {},
   "outputs": [],
   "source": [
    "scores = [\n",
    "    [1, 0.75, 0.50, 0.25], \n",
    "]"
   ]
  },
  {
   "cell_type": "code",
   "execution_count": 6,
   "id": "05fa9bf2-da22-48d9-b8de-3927b4fafe9a",
   "metadata": {},
   "outputs": [],
   "source": [
    "def evaluate_user():\n",
    "    selected_indices = random.sample(range(len(prompts)), 20)\n",
    "    total_score = 0\n",
    "\n",
    "    for index in selected_indices:\n",
    "        print(\"\\nQuestion:\", prompts[index])\n",
    "        options_to_display = option_list[index]\n",
    "        random.shuffle(options_to_display)  # Shuffle options for randomness\n",
    "        options_to_display = options_to_display[:4]  # Select only 4 options\n",
    "        for i, option in enumerate(options_to_display):\n",
    "            print(f\"{chr(97 + i)}. {option}\")\n",
    "        user_choice = input(\"Your choice (a/b/c/d): \").strip().lower()\n",
    "\n",
    "        if user_choice in ['a', 'b', 'c', 'd']:\n",
    "            option_index = ord(user_choice) - ord('a')\n",
    "            total_score += scores[0][option_index]\n",
    "        else:\n",
    "            print(\"Invalid choice. Skipping this question.\")\n",
    "\n",
    "        if index == selected_indices[-1]:\n",
    "            break\n",
    "\n",
    "    percentage_score = (total_score / 20) * 100\n",
    "    print(\"\\nTotal score:\", total_score, \"out of 20\")\n",
    "    print(\"Percentage score:\", percentage_score)\n",
    "\n",
    "    if percentage_score >= 80:\n",
    "        print(\"Congratulations! You scored above 80%. You're doing well!\")\n",
    "    elif 60 <= percentage_score < 80:\n",
    "        print(\"Your score is between 60% and 80%. Generating 5 additional questions.\")\n",
    "        generated_questions = generate_questions(prompts, 5)\n",
    "        print_generated_questions(generated_questions)\n",
    "    elif 40 <= percentage_score < 60:\n",
    "        print(\"Your score is between 40% and 60%. Generating 7 additional questions.\")\n",
    "        generated_questions = generate_questions(prompts, 7)\n",
    "        print_generated_questions(generated_questions)\n",
    "    else:\n",
    "        print(\"Your score is below 40%. Generating 10 additional questions.\")\n",
    "        generated_questions = generate_questions(prompts, 10)\n",
    "        print_generated_questions(generated_questions)"
   ]
  },
  {
   "cell_type": "code",
   "execution_count": 7,
   "id": "adf6f49a-124e-4712-8128-93b4f1792a2b",
   "metadata": {},
   "outputs": [],
   "source": [
    "def generate_questions(prompts, num_questions):\n",
    "    questions = []\n",
    "    selected_indices = random.sample(range(len(prompts)), num_questions)\n",
    "    for index in selected_indices:\n",
    "        options_to_display = option_list[index]\n",
    "        random.shuffle(options_to_display)  # Shuffle options for randomness\n",
    "        options_to_display = options_to_display[:4]  # Select 4 options\n",
    "        question = {\n",
    "            \"question\": prompts[index],\n",
    "            \"options\": options_to_display\n",
    "        }\n",
    "        questions.append(question)\n",
    "    return questions"
   ]
  },
  {
   "cell_type": "code",
   "execution_count": 8,
   "id": "30e778e6-62a8-45a3-8841-b6bf9e539aec",
   "metadata": {},
   "outputs": [],
   "source": [
    "paragraph = \"Normal sleep duration for typically around 8 hours per night. During the day, a normal man tends to feel alert, focused, and energetic, while at night, he feels tired and experiences a natural desire to sleep. In terms of diet and eating habits, a normal man generally maintains a balanced and nutritious diet, consuming regular meals throughout the day. He may occasionally indulge in unhealthy foods or skip meals, but these instances are not frequent or excessive. Additionally, he practices good hygiene, engages in regular physical activity, and manages stress effectively.\""
   ]
  },
  {
   "cell_type": "code",
   "execution_count": 9,
   "id": "502490f8-8ac3-495c-a4d7-fb7d68932f98",
   "metadata": {},
   "outputs": [],
   "source": [
    "def print_generated_questions(generated_questions):\n",
    "    for i, question in enumerate(generated_questions):\n",
    "        print(f\"\\nAdditional Question {i+1}: {question['question']}\")\n",
    "        for j, option in enumerate(question['options']):\n",
    "            print(f\"{chr(97 + j)}. {option}\")"
   ]
  },
  {
   "cell_type": "code",
   "execution_count": 10,
   "id": "fd787629-fe2a-4e70-8125-2203a9614955",
   "metadata": {},
   "outputs": [],
   "source": [
    "from transformers import T5ForConditionalGeneration, T5Tokenizer\n",
    "from sklearn.metrics.pairwise import cosine_similarity\n",
    "import numpy as np"
   ]
  },
  {
   "cell_type": "code",
   "execution_count": 11,
   "id": "f0cbf232-2cd4-46ef-9a73-f2c2e442fe5c",
   "metadata": {},
   "outputs": [
    {
     "name": "stderr",
     "output_type": "stream",
     "text": [
      "You are using the default legacy behaviour of the <class 'transformers.models.t5.tokenization_t5.T5Tokenizer'>. This is expected, and simply means that the `legacy` (previous) behavior will be used so nothing changes for you. If you want to use the new behaviour, set `legacy=False`. This should only be set if you understand what it means, and thoroughly read the reason why this was added as explained in https://github.com/huggingface/transformers/pull/24565\n",
      "Special tokens have been added in the vocabulary, make sure the associated word embeddings are fine-tuned or trained.\n"
     ]
    }
   ],
   "source": [
    "model_name = \"t5-small\"\n",
    "model = T5ForConditionalGeneration.from_pretrained(model_name)\n",
    "tokenizer = T5Tokenizer.from_pretrained(model_name)"
   ]
  },
  {
   "cell_type": "code",
   "execution_count": 12,
   "id": "dec2e3c2-c831-40ab-a704-96df749c3f85",
   "metadata": {},
   "outputs": [],
   "source": [
    "def generate_qs(p, n=4):\n",
    "    i = tokenizer.encode(\"question: \" + p, return_tensors=\"pt\", max_length=512, truncation=True)\n",
    "    q = model.generate(i, max_length=64, num_return_sequences=1, num_beams=n, early_stopping=True)\n",
    "    return [tokenizer.decode(x, skip_special_tokens=True) for x in q]\n",
    "\n",
    "generated_questions = generate_qs(paragraph, n=len(manual_questions))"
   ]
  },
  {
   "cell_type": "code",
   "execution_count": 13,
   "id": "42a07122-0713-4d24-ba43-78acbaa2e633",
   "metadata": {},
   "outputs": [],
   "source": [
    "def calculate(manual_questions, generated_questions):\n",
    "    manual_encodings = tokenizer(manual_questions, return_tensors='pt', padding=True, truncation=True)['input_ids']\n",
    "    generated_encodings = tokenizer(generated_questions, return_tensors='pt', padding=True, truncation=True)['input_ids']\n",
    "    \n",
    "    manual_embeddings = model.manual_encode(manual_encodings).last_hidden_state.mean(dim=1)\n",
    "    generated_embeddings = model.generation_encode(generated_encodings).last_hidden_state.mean(dim=1)\n",
    "    \n",
    "    similarities = cosine_similarity(manual_embeddings.detach().numpy(), generated_embeddings.detach().numpy())\n",
    "    average_similarity = np.mean(similarities.diagonal())\n",
    "    return average_similarity"
   ]
  },
  {
   "cell_type": "code",
   "execution_count": 14,
   "id": "d8ea5897-00c8-4dcc-b40e-b7285b2a9bdb",
   "metadata": {},
   "outputs": [
    {
     "name": "stdout",
     "output_type": "stream",
     "text": [
      "\n",
      "Question: Any tips for maintaining focus during a busy day? Are you more about deep concentration or juggling multiple tasks?\n",
      "a. Structured work breaks\n",
      "b. Efficient multitasking\n",
      "c. Using techniques like Pomodoro\n",
      "d. Diving deep into tasks\n"
     ]
    },
    {
     "name": "stdin",
     "output_type": "stream",
     "text": [
      "Your choice (a/b/c/d):  A\n"
     ]
    },
    {
     "name": "stdout",
     "output_type": "stream",
     "text": [
      "\n",
      "Question: Ever notice how chowing down affects your mood and mojo?\n",
      "a. Comfort foods for temporary mood boost\n",
      "b. Skipping meals leads to irritability\n",
      "c. Nutritious meals boost mood and energy\n",
      "d. Certain foods cause mood crashes\n"
     ]
    },
    {
     "name": "stdin",
     "output_type": "stream",
     "text": [
      "Your choice (a/b/c/d):  B\n"
     ]
    },
    {
     "name": "stdout",
     "output_type": "stream",
     "text": [
      "\n",
      "Question: How's your mood been lately? Are you riding high on positivity or feeling a bit cloudy?\n",
      "a. Feeling overwhelmed\n",
      "b. Mixed emotions, mostly content\n",
      "c. Upbeat and positive\n",
      "d. Struggling with low moods\n"
     ]
    },
    {
     "name": "stdin",
     "output_type": "stream",
     "text": [
      "Your choice (a/b/c/d):  C\n"
     ]
    },
    {
     "name": "stdout",
     "output_type": "stream",
     "text": [
      "\n",
      "Question: What's your secret sauce for keeping that physical engine revving?\n",
      "a. Staying hydrated with water and electrolytes\n",
      "b. Stress-reducing activities like yoga or stretching\n",
      "c. Regular exercise including cardio and strength training\n",
      "d. Listening to body's signals for rest\n"
     ]
    },
    {
     "name": "stdin",
     "output_type": "stream",
     "text": [
      "Your choice (a/b/c/d):  D\n"
     ]
    },
    {
     "name": "stdout",
     "output_type": "stream",
     "text": [
      "\n",
      "Question: When it comes to managing responsibilities, are you a meticulous planner or a spontaneous problem solver?\n",
      "a. Meticulous planning\n",
      "b. Adapting on the fly\n",
      "c. Flexible approach\n",
      "d. Delegating tasks\n"
     ]
    },
    {
     "name": "stdin",
     "output_type": "stream",
     "text": [
      "Your choice (a/b/c/d):  A\n"
     ]
    },
    {
     "name": "stdout",
     "output_type": "stream",
     "text": [
      "\n",
      "Question: What's your approach to self-care? Do you prefer indulging in pampering sessions or keeping it simple?\n",
      "a. Finding joy in simplicity\n",
      "b. Simple daily routines\n",
      "c. Luxurious pampering\n",
      "d. Emotional nurturing\n"
     ]
    },
    {
     "name": "stdin",
     "output_type": "stream",
     "text": [
      "Your choice (a/b/c/d):  B\n"
     ]
    },
    {
     "name": "stdout",
     "output_type": "stream",
     "text": [
      "\n",
      "Question: When it comes to tackling challenges, are you more of a 'calm and collected' type or a 'fly by the seat of your pants'?\n",
      "a. Embracing challenges\n",
      "b. Calm and composed\n",
      "c. Finding creative solutions\n",
      "d. Overwhelmed by challenges\n"
     ]
    },
    {
     "name": "stdin",
     "output_type": "stream",
     "text": [
      "Your choice (a/b/c/d):  C\n"
     ]
    },
    {
     "name": "stdout",
     "output_type": "stream",
     "text": [
      "\n",
      "Question: What keeps your mental gears grinding throughout the day?\n",
      "a. Podcasts or audiobooks\n",
      "b. Problem-solving tasks or puzzles\n",
      "c. Stimulating conversations\n",
      "d. Short breaks for stretching or walking\n"
     ]
    },
    {
     "name": "stdin",
     "output_type": "stream",
     "text": [
      "Your choice (a/b/c/d):  D\n"
     ]
    },
    {
     "name": "stdout",
     "output_type": "stream",
     "text": [
      "\n",
      "Question: How do you make sure your meals are hitting all the right spots?\n",
      "a. Variety and color on the plate\n",
      "b. Experimenting with new recipes\n",
      "c. Planning meals and balanced nutrition\n",
      "d. Listening to hunger cues\n"
     ]
    },
    {
     "name": "stdin",
     "output_type": "stream",
     "text": [
      "Your choice (a/b/c/d):  A\n"
     ]
    },
    {
     "name": "stdout",
     "output_type": "stream",
     "text": [
      "\n",
      "Question: How's your sleep been lately? Rating it on a scale of 'dreamy' to 'tossing and turning'?\n",
      "a. Struggled and tired\n",
      "b. Tossed and turned all night\n",
      "c. Refreshed and rejuvenated\n",
      "d. Decent with interruptions\n"
     ]
    },
    {
     "name": "stdin",
     "output_type": "stream",
     "text": [
      "Your choice (a/b/c/d):  B\n"
     ]
    },
    {
     "name": "stdout",
     "output_type": "stream",
     "text": [
      "\n",
      "Question: What's the typical bedtime routine for a guy like you?\n",
      "a. Warm bath or shower\n",
      "b. Meditation or breathing exercises\n",
      "c. Light reading or music\n",
      "d. Avoid screens before bed\n"
     ]
    },
    {
     "name": "stdin",
     "output_type": "stream",
     "text": [
      "Your choice (a/b/c/d):  C\n"
     ]
    },
    {
     "name": "stdout",
     "output_type": "stream",
     "text": [
      "\n",
      "Question: Got any hygiene hacks that keep you feeling fresh?\n",
      "a. Natural deodorants\n",
      "b. Dry shampoo\n",
      "c. Facial wipes or mists\n",
      "d. Small toothbrush and toothpaste\n"
     ]
    },
    {
     "name": "stdin",
     "output_type": "stream",
     "text": [
      "Your choice (a/b/c/d):  D\n"
     ]
    },
    {
     "name": "stdout",
     "output_type": "stream",
     "text": [
      "\n",
      "Question: What's on the menu for keeping you fueled and ready for action?\n",
      "a. Quick snacks for energy\n",
      "b. Complex carbohydrates\n",
      "c. Healthy fats\n",
      "d. Whole foods and lean proteins\n"
     ]
    },
    {
     "name": "stdin",
     "output_type": "stream",
     "text": [
      "Your choice (a/b/c/d):  A\n"
     ]
    },
    {
     "name": "stdout",
     "output_type": "stream",
     "text": [
      "\n",
      "Question: Any Jedi mind tricks for keeping stress at bay?\n",
      "a. Mindfulness and breathing exercises\n",
      "b. Hobbies and relaxation\n",
      "c. Regular exercise\n",
      "d. Seeking support from others\n"
     ]
    },
    {
     "name": "stdin",
     "output_type": "stream",
     "text": [
      "Your choice (a/b/c/d):  B\n"
     ]
    },
    {
     "name": "stdout",
     "output_type": "stream",
     "text": [
      "\n",
      "Question: How do you handle setbacks? Are you more about bouncing back quickly or taking time to regroup?\n",
      "a. Maintaining resilience\n",
      "b. Seeking support\n",
      "c. Reflective processing\n",
      "d. Quick bounce back\n"
     ]
    },
    {
     "name": "stdin",
     "output_type": "stream",
     "text": [
      "Your choice (a/b/c/d):  C\n"
     ]
    },
    {
     "name": "stdout",
     "output_type": "stream",
     "text": [
      "\n",
      "Question: How do you recharge your batteries after a long day? Are you more into solo relaxation or socializing?\n",
      "a. Socializing with friends\n",
      "b. Mindfulness exercises\n",
      "c. Solitary activities\n",
      "d. Self-care rituals\n"
     ]
    },
    {
     "name": "stdin",
     "output_type": "stream",
     "text": [
      "Your choice (a/b/c/d):  D\n"
     ]
    },
    {
     "name": "stdout",
     "output_type": "stream",
     "text": [
      "\n",
      "Question: What's your trick for staying motivated? Are you more about setting big goals or taking it one step at a time?\n",
      "a. Visualizing rewards\n",
      "b. Drawing inspiration from others\n",
      "c. Setting ambitious goals\n",
      "d. Taking small steps\n"
     ]
    },
    {
     "name": "stdin",
     "output_type": "stream",
     "text": [
      "Your choice (a/b/c/d):  A\n"
     ]
    },
    {
     "name": "stdout",
     "output_type": "stream",
     "text": [
      "\n",
      "Question: Tell me about your downtime. Are you all about Netflix binges or outdoor adventures?\n",
      "a. Quality time with loved ones\n",
      "b. Exploring new hobbies\n",
      "c. Binge-watching\n",
      "d. Outdoor adventures\n"
     ]
    },
    {
     "name": "stdin",
     "output_type": "stream",
     "text": [
      "Your choice (a/b/c/d):  B\n"
     ]
    },
    {
     "name": "stdout",
     "output_type": "stream",
     "text": [
      "\n",
      "Question: Feeling more like a daytime dynamo or a nighttime ninja when it comes to energy?\n",
      "a. Fatigue and low energy\n",
      "b. Full of energy\n",
      "c. Balanced throughout the day\n",
      "d. Alert in the evening\n"
     ]
    },
    {
     "name": "stdin",
     "output_type": "stream",
     "text": [
      "Your choice (a/b/c/d):  C\n"
     ]
    },
    {
     "name": "stdout",
     "output_type": "stream",
     "text": [
      "\n",
      "Question: Describe your go-to relaxation ritual. Is it more 'zen master' or 'unwinding chaos'?\n",
      "a. Mindfulness practices\n",
      "b. Nature walks\n",
      "c. Spending time with loved ones\n",
      "d. Reading or watching\n"
     ]
    },
    {
     "name": "stdin",
     "output_type": "stream",
     "text": [
      "Your choice (a/b/c/d):  D\n"
     ]
    },
    {
     "name": "stdout",
     "output_type": "stream",
     "text": [
      "\n",
      "Total score: 12.5 out of 20\n",
      "Percentage score: 62.5\n",
      "Your score is between 60% and 80%. Generating 5 additional questions.\n",
      "\n",
      "Additional Question 1: What's on the menu for keeping you fueled and ready for action?\n",
      "a. Complex carbohydrates\n",
      "b. Healthy fats\n",
      "c. Whole foods and lean proteins\n",
      "d. Quick snacks for energy\n",
      "\n",
      "Additional Question 2: What's your trick for staying motivated? Are you more about setting big goals or taking it one step at a time?\n",
      "a. Drawing inspiration from others\n",
      "b. Setting ambitious goals\n",
      "c. Taking small steps\n",
      "d. Visualizing rewards\n",
      "\n",
      "Additional Question 3: When it comes to managing responsibilities, are you a meticulous planner or a spontaneous problem solver?\n",
      "a. Adapting on the fly\n",
      "b. Meticulous planning\n",
      "c. Flexible approach\n",
      "d. Delegating tasks\n",
      "\n",
      "Additional Question 4: Got any hygiene hacks that keep you feeling fresh?\n",
      "a. Facial wipes or mists\n",
      "b. Small toothbrush and toothpaste\n",
      "c. Natural deodorants\n",
      "d. Dry shampoo\n",
      "\n",
      "Additional Question 5: Any Jedi mind tricks for keeping stress at bay?\n",
      "a. Hobbies and relaxation\n",
      "b. Seeking support from others\n",
      "c. Regular exercise\n",
      "d. Mindfulness and breathing exercises\n"
     ]
    }
   ],
   "source": [
    "evaluate_user()"
   ]
  }
 ],
 "metadata": {
  "kernelspec": {
   "display_name": "Python 3 (ipykernel)",
   "language": "python",
   "name": "python3"
  },
  "language_info": {
   "codemirror_mode": {
    "name": "ipython",
    "version": 3
   },
   "file_extension": ".py",
   "mimetype": "text/x-python",
   "name": "python",
   "nbconvert_exporter": "python",
   "pygments_lexer": "ipython3",
   "version": "3.10.0"
  }
 },
 "nbformat": 4,
 "nbformat_minor": 5
}
